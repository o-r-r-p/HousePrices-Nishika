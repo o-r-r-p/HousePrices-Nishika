{
 "cells": [
  {
   "cell_type": "code",
   "execution_count": 1,
   "metadata": {},
   "outputs": [
    {
     "name": "stderr",
     "output_type": "stream",
     "text": [
      "/Users/otomoryosuke/opt/anaconda3/envs/Python37/lib/python3.7/importlib/_bootstrap.py:219: RuntimeWarning: numpy.ufunc size changed, may indicate binary incompatibility. Expected 192 from C header, got 216 from PyObject\n",
      "  return f(*args, **kwds)\n",
      "/Users/otomoryosuke/opt/anaconda3/envs/Python37/lib/python3.7/importlib/_bootstrap.py:219: RuntimeWarning: numpy.ufunc size changed, may indicate binary incompatibility. Expected 192 from C header, got 216 from PyObject\n",
      "  return f(*args, **kwds)\n"
     ]
    }
   ],
   "source": [
    "import re\n",
    "\n",
    "import japanize_matplotlib\n",
    "import lightgbm as lgb\n",
    "import matplotlib.pyplot as plt\n",
    "import numpy as np\n",
    "import optuna\n",
    "import pandas as pd\n",
    "import seaborn as sns\n",
    "sns.set(font=\"IPAexGothic\")\n",
    "from sklearn.linear_model import ElasticNet\n",
    "from glob import glob\n",
    "from functools import partial\n",
    "from sklearn.metrics import mean_absolute_error\n",
    "from sklearn.model_selection import KFold\n",
    "from xfeat import SelectCategorical, LabelEncoder, LambdaEncoder, Pipeline, ConcatCombination, SelectNumerical, \\\n",
    "    ArithmeticCombinations, TargetEncoder, aggregation, GBDTFeatureSelector, GBDTFeatureExplorer"
   ]
  },
  {
   "cell_type": "code",
   "execution_count": 2,
   "metadata": {},
   "outputs": [
    {
     "name": "stderr",
     "output_type": "stream",
     "text": [
      "/Users/otomoryosuke/opt/anaconda3/envs/Python37/lib/python3.7/site-packages/IPython/core/interactiveshell.py:3166: DtypeWarning: Columns (10) have mixed types.Specify dtype option on import or set low_memory=False.\n",
      "  interactivity=interactivity, compiler=compiler, result=result)\n"
     ]
    },
    {
     "data": {
      "text/html": [
       "<div>\n",
       "<style scoped>\n",
       "    .dataframe tbody tr th:only-of-type {\n",
       "        vertical-align: middle;\n",
       "    }\n",
       "\n",
       "    .dataframe tbody tr th {\n",
       "        vertical-align: top;\n",
       "    }\n",
       "\n",
       "    .dataframe thead th {\n",
       "        text-align: right;\n",
       "    }\n",
       "</style>\n",
       "<table border=\"1\" class=\"dataframe\">\n",
       "  <thead>\n",
       "    <tr style=\"text-align: right;\">\n",
       "      <th></th>\n",
       "      <th>ID</th>\n",
       "      <th>種類</th>\n",
       "      <th>地域</th>\n",
       "      <th>市区町村コード</th>\n",
       "      <th>都道府県名</th>\n",
       "      <th>市区町村名</th>\n",
       "      <th>地区名</th>\n",
       "      <th>最寄駅：名称</th>\n",
       "      <th>最寄駅：距離（分）</th>\n",
       "      <th>間取り</th>\n",
       "      <th>...</th>\n",
       "      <th>前面道路：方位</th>\n",
       "      <th>前面道路：種類</th>\n",
       "      <th>前面道路：幅員（ｍ）</th>\n",
       "      <th>都市計画</th>\n",
       "      <th>建ぺい率（％）</th>\n",
       "      <th>容積率（％）</th>\n",
       "      <th>取引時点</th>\n",
       "      <th>改装</th>\n",
       "      <th>取引の事情等</th>\n",
       "      <th>取引価格（総額）_log</th>\n",
       "    </tr>\n",
       "  </thead>\n",
       "  <tbody>\n",
       "    <tr>\n",
       "      <th>0</th>\n",
       "      <td>1009866</td>\n",
       "      <td>中古マンション等</td>\n",
       "      <td>NaN</td>\n",
       "      <td>1101</td>\n",
       "      <td>北海道</td>\n",
       "      <td>札幌市中央区</td>\n",
       "      <td>南２６条西</td>\n",
       "      <td>電車事業所前</td>\n",
       "      <td>10</td>\n",
       "      <td>３ＬＤＫ</td>\n",
       "      <td>...</td>\n",
       "      <td>NaN</td>\n",
       "      <td>NaN</td>\n",
       "      <td>NaN</td>\n",
       "      <td>準住居地域</td>\n",
       "      <td>60.0</td>\n",
       "      <td>200.0</td>\n",
       "      <td>2013年第１四半期</td>\n",
       "      <td>未改装</td>\n",
       "      <td>NaN</td>\n",
       "      <td>7.079181</td>\n",
       "    </tr>\n",
       "    <tr>\n",
       "      <th>1</th>\n",
       "      <td>1009621</td>\n",
       "      <td>中古マンション等</td>\n",
       "      <td>NaN</td>\n",
       "      <td>1101</td>\n",
       "      <td>北海道</td>\n",
       "      <td>札幌市中央区</td>\n",
       "      <td>宮の森３条</td>\n",
       "      <td>西２８丁目</td>\n",
       "      <td>9</td>\n",
       "      <td>３ＬＤＫ</td>\n",
       "      <td>...</td>\n",
       "      <td>NaN</td>\n",
       "      <td>NaN</td>\n",
       "      <td>NaN</td>\n",
       "      <td>第１種中高層住居専用地域</td>\n",
       "      <td>60.0</td>\n",
       "      <td>200.0</td>\n",
       "      <td>2017年第１四半期</td>\n",
       "      <td>未改装</td>\n",
       "      <td>NaN</td>\n",
       "      <td>6.963788</td>\n",
       "    </tr>\n",
       "    <tr>\n",
       "      <th>2</th>\n",
       "      <td>1002994</td>\n",
       "      <td>中古マンション等</td>\n",
       "      <td>NaN</td>\n",
       "      <td>1101</td>\n",
       "      <td>北海道</td>\n",
       "      <td>札幌市中央区</td>\n",
       "      <td>北７条西</td>\n",
       "      <td>西２８丁目</td>\n",
       "      <td>6</td>\n",
       "      <td>４ＬＤＫ</td>\n",
       "      <td>...</td>\n",
       "      <td>NaN</td>\n",
       "      <td>NaN</td>\n",
       "      <td>NaN</td>\n",
       "      <td>近隣商業地域</td>\n",
       "      <td>80.0</td>\n",
       "      <td>300.0</td>\n",
       "      <td>2011年第２四半期</td>\n",
       "      <td>未改装</td>\n",
       "      <td>NaN</td>\n",
       "      <td>7.230449</td>\n",
       "    </tr>\n",
       "    <tr>\n",
       "      <th>3</th>\n",
       "      <td>1000722</td>\n",
       "      <td>中古マンション等</td>\n",
       "      <td>NaN</td>\n",
       "      <td>1101</td>\n",
       "      <td>北海道</td>\n",
       "      <td>札幌市中央区</td>\n",
       "      <td>北１条西</td>\n",
       "      <td>西１１丁目</td>\n",
       "      <td>4</td>\n",
       "      <td>２ＬＤＫ</td>\n",
       "      <td>...</td>\n",
       "      <td>NaN</td>\n",
       "      <td>NaN</td>\n",
       "      <td>NaN</td>\n",
       "      <td>商業地域</td>\n",
       "      <td>80.0</td>\n",
       "      <td>600.0</td>\n",
       "      <td>2016年第１四半期</td>\n",
       "      <td>改装済</td>\n",
       "      <td>NaN</td>\n",
       "      <td>7.230449</td>\n",
       "    </tr>\n",
       "    <tr>\n",
       "      <th>4</th>\n",
       "      <td>1001770</td>\n",
       "      <td>中古マンション等</td>\n",
       "      <td>NaN</td>\n",
       "      <td>1101</td>\n",
       "      <td>北海道</td>\n",
       "      <td>札幌市中央区</td>\n",
       "      <td>北３条東</td>\n",
       "      <td>バスセンター前</td>\n",
       "      <td>6</td>\n",
       "      <td>３ＬＤＫ</td>\n",
       "      <td>...</td>\n",
       "      <td>NaN</td>\n",
       "      <td>NaN</td>\n",
       "      <td>NaN</td>\n",
       "      <td>近隣商業地域</td>\n",
       "      <td>80.0</td>\n",
       "      <td>300.0</td>\n",
       "      <td>2019年第３四半期</td>\n",
       "      <td>NaN</td>\n",
       "      <td>NaN</td>\n",
       "      <td>7.602060</td>\n",
       "    </tr>\n",
       "  </tbody>\n",
       "</table>\n",
       "<p>5 rows × 28 columns</p>\n",
       "</div>"
      ],
      "text/plain": [
       "        ID        種類  地域  市区町村コード 都道府県名   市区町村名    地区名   最寄駅：名称 最寄駅：距離（分）  \\\n",
       "0  1009866  中古マンション等 NaN     1101   北海道  札幌市中央区  南２６条西   電車事業所前        10   \n",
       "1  1009621  中古マンション等 NaN     1101   北海道  札幌市中央区  宮の森３条    西２８丁目         9   \n",
       "2  1002994  中古マンション等 NaN     1101   北海道  札幌市中央区   北７条西    西２８丁目         6   \n",
       "3  1000722  中古マンション等 NaN     1101   北海道  札幌市中央区   北１条西    西１１丁目         4   \n",
       "4  1001770  中古マンション等 NaN     1101   北海道  札幌市中央区   北３条東  バスセンター前         6   \n",
       "\n",
       "    間取り  ... 前面道路：方位  前面道路：種類  前面道路：幅員（ｍ）          都市計画 建ぺい率（％） 容積率（％）  \\\n",
       "0  ３ＬＤＫ  ...     NaN      NaN         NaN         準住居地域    60.0  200.0   \n",
       "1  ３ＬＤＫ  ...     NaN      NaN         NaN  第１種中高層住居専用地域    60.0  200.0   \n",
       "2  ４ＬＤＫ  ...     NaN      NaN         NaN        近隣商業地域    80.0  300.0   \n",
       "3  ２ＬＤＫ  ...     NaN      NaN         NaN          商業地域    80.0  600.0   \n",
       "4  ３ＬＤＫ  ...     NaN      NaN         NaN        近隣商業地域    80.0  300.0   \n",
       "\n",
       "         取引時点   改装  取引の事情等  取引価格（総額）_log  \n",
       "0  2013年第１四半期  未改装     NaN      7.079181  \n",
       "1  2017年第１四半期  未改装     NaN      6.963788  \n",
       "2  2011年第２四半期  未改装     NaN      7.230449  \n",
       "3  2016年第１四半期  改装済     NaN      7.230449  \n",
       "4  2019年第３四半期  NaN     NaN      7.602060  \n",
       "\n",
       "[5 rows x 28 columns]"
      ]
     },
     "execution_count": 2,
     "metadata": {},
     "output_type": "execute_result"
    }
   ],
   "source": [
    "train = pd.read_csv('output.csv')\n",
    "train.head()"
   ]
  },
  {
   "cell_type": "code",
   "execution_count": 3,
   "metadata": {},
   "outputs": [
    {
     "data": {
      "text/html": [
       "<div>\n",
       "<style scoped>\n",
       "    .dataframe tbody tr th:only-of-type {\n",
       "        vertical-align: middle;\n",
       "    }\n",
       "\n",
       "    .dataframe tbody tr th {\n",
       "        vertical-align: top;\n",
       "    }\n",
       "\n",
       "    .dataframe thead th {\n",
       "        text-align: right;\n",
       "    }\n",
       "</style>\n",
       "<table border=\"1\" class=\"dataframe\">\n",
       "  <thead>\n",
       "    <tr style=\"text-align: right;\">\n",
       "      <th></th>\n",
       "      <th>ID</th>\n",
       "      <th>種類</th>\n",
       "      <th>地域</th>\n",
       "      <th>市区町村コード</th>\n",
       "      <th>都道府県名</th>\n",
       "      <th>市区町村名</th>\n",
       "      <th>地区名</th>\n",
       "      <th>最寄駅：名称</th>\n",
       "      <th>最寄駅：距離（分）</th>\n",
       "      <th>間取り</th>\n",
       "      <th>...</th>\n",
       "      <th>今後の利用目的</th>\n",
       "      <th>前面道路：方位</th>\n",
       "      <th>前面道路：種類</th>\n",
       "      <th>前面道路：幅員（ｍ）</th>\n",
       "      <th>都市計画</th>\n",
       "      <th>建ぺい率（％）</th>\n",
       "      <th>容積率（％）</th>\n",
       "      <th>取引時点</th>\n",
       "      <th>改装</th>\n",
       "      <th>取引の事情等</th>\n",
       "    </tr>\n",
       "  </thead>\n",
       "  <tbody>\n",
       "    <tr>\n",
       "      <th>0</th>\n",
       "      <td>1000000</td>\n",
       "      <td>中古マンション等</td>\n",
       "      <td>NaN</td>\n",
       "      <td>1101</td>\n",
       "      <td>北海道</td>\n",
       "      <td>札幌市中央区</td>\n",
       "      <td>旭ケ丘</td>\n",
       "      <td>円山公園</td>\n",
       "      <td>25</td>\n",
       "      <td>４ＬＤＫ</td>\n",
       "      <td>...</td>\n",
       "      <td>住宅</td>\n",
       "      <td>NaN</td>\n",
       "      <td>NaN</td>\n",
       "      <td>NaN</td>\n",
       "      <td>第１種低層住居専用地域</td>\n",
       "      <td>40.0</td>\n",
       "      <td>80.0</td>\n",
       "      <td>2021年第１四半期</td>\n",
       "      <td>未改装</td>\n",
       "      <td>NaN</td>\n",
       "    </tr>\n",
       "    <tr>\n",
       "      <th>1</th>\n",
       "      <td>1000001</td>\n",
       "      <td>中古マンション等</td>\n",
       "      <td>NaN</td>\n",
       "      <td>1101</td>\n",
       "      <td>北海道</td>\n",
       "      <td>札幌市中央区</td>\n",
       "      <td>旭ケ丘</td>\n",
       "      <td>円山公園</td>\n",
       "      <td>20</td>\n",
       "      <td>４ＬＤＫ</td>\n",
       "      <td>...</td>\n",
       "      <td>住宅</td>\n",
       "      <td>NaN</td>\n",
       "      <td>NaN</td>\n",
       "      <td>NaN</td>\n",
       "      <td>近隣商業地域</td>\n",
       "      <td>80.0</td>\n",
       "      <td>200.0</td>\n",
       "      <td>2021年第１四半期</td>\n",
       "      <td>未改装</td>\n",
       "      <td>NaN</td>\n",
       "    </tr>\n",
       "    <tr>\n",
       "      <th>2</th>\n",
       "      <td>1000062</td>\n",
       "      <td>中古マンション等</td>\n",
       "      <td>NaN</td>\n",
       "      <td>1101</td>\n",
       "      <td>北海道</td>\n",
       "      <td>札幌市中央区</td>\n",
       "      <td>大通西</td>\n",
       "      <td>西１１丁目</td>\n",
       "      <td>3</td>\n",
       "      <td>２ＬＤＫ</td>\n",
       "      <td>...</td>\n",
       "      <td>住宅</td>\n",
       "      <td>NaN</td>\n",
       "      <td>NaN</td>\n",
       "      <td>NaN</td>\n",
       "      <td>商業地域</td>\n",
       "      <td>80.0</td>\n",
       "      <td>600.0</td>\n",
       "      <td>2021年第１四半期</td>\n",
       "      <td>未改装</td>\n",
       "      <td>NaN</td>\n",
       "    </tr>\n",
       "    <tr>\n",
       "      <th>3</th>\n",
       "      <td>1000114</td>\n",
       "      <td>中古マンション等</td>\n",
       "      <td>NaN</td>\n",
       "      <td>1101</td>\n",
       "      <td>北海道</td>\n",
       "      <td>札幌市中央区</td>\n",
       "      <td>大通西</td>\n",
       "      <td>西１８丁目</td>\n",
       "      <td>2</td>\n",
       "      <td>１ＬＤＫ</td>\n",
       "      <td>...</td>\n",
       "      <td>住宅</td>\n",
       "      <td>NaN</td>\n",
       "      <td>NaN</td>\n",
       "      <td>NaN</td>\n",
       "      <td>商業地域</td>\n",
       "      <td>80.0</td>\n",
       "      <td>400.0</td>\n",
       "      <td>2021年第１四半期</td>\n",
       "      <td>未改装</td>\n",
       "      <td>NaN</td>\n",
       "    </tr>\n",
       "    <tr>\n",
       "      <th>4</th>\n",
       "      <td>1000116</td>\n",
       "      <td>中古マンション等</td>\n",
       "      <td>NaN</td>\n",
       "      <td>1101</td>\n",
       "      <td>北海道</td>\n",
       "      <td>札幌市中央区</td>\n",
       "      <td>大通西</td>\n",
       "      <td>西１８丁目</td>\n",
       "      <td>4</td>\n",
       "      <td>２ＬＤＫ</td>\n",
       "      <td>...</td>\n",
       "      <td>住宅</td>\n",
       "      <td>NaN</td>\n",
       "      <td>NaN</td>\n",
       "      <td>NaN</td>\n",
       "      <td>近隣商業地域</td>\n",
       "      <td>80.0</td>\n",
       "      <td>300.0</td>\n",
       "      <td>2021年第１四半期</td>\n",
       "      <td>未改装</td>\n",
       "      <td>NaN</td>\n",
       "    </tr>\n",
       "  </tbody>\n",
       "</table>\n",
       "<p>5 rows × 27 columns</p>\n",
       "</div>"
      ],
      "text/plain": [
       "        ID        種類  地域  市区町村コード 都道府県名   市区町村名  地区名 最寄駅：名称 最寄駅：距離（分）   間取り  \\\n",
       "0  1000000  中古マンション等 NaN     1101   北海道  札幌市中央区  旭ケ丘   円山公園        25  ４ＬＤＫ   \n",
       "1  1000001  中古マンション等 NaN     1101   北海道  札幌市中央区  旭ケ丘   円山公園        20  ４ＬＤＫ   \n",
       "2  1000062  中古マンション等 NaN     1101   北海道  札幌市中央区  大通西  西１１丁目         3  ２ＬＤＫ   \n",
       "3  1000114  中古マンション等 NaN     1101   北海道  札幌市中央区  大通西  西１８丁目         2  １ＬＤＫ   \n",
       "4  1000116  中古マンション等 NaN     1101   北海道  札幌市中央区  大通西  西１８丁目         4  ２ＬＤＫ   \n",
       "\n",
       "   ... 今後の利用目的  前面道路：方位  前面道路：種類  前面道路：幅員（ｍ）         都市計画 建ぺい率（％） 容積率（％）  \\\n",
       "0  ...      住宅      NaN      NaN         NaN  第１種低層住居専用地域    40.0   80.0   \n",
       "1  ...      住宅      NaN      NaN         NaN       近隣商業地域    80.0  200.0   \n",
       "2  ...      住宅      NaN      NaN         NaN         商業地域    80.0  600.0   \n",
       "3  ...      住宅      NaN      NaN         NaN         商業地域    80.0  400.0   \n",
       "4  ...      住宅      NaN      NaN         NaN       近隣商業地域    80.0  300.0   \n",
       "\n",
       "         取引時点   改装  取引の事情等  \n",
       "0  2021年第１四半期  未改装     NaN  \n",
       "1  2021年第１四半期  未改装     NaN  \n",
       "2  2021年第１四半期  未改装     NaN  \n",
       "3  2021年第１四半期  未改装     NaN  \n",
       "4  2021年第１四半期  未改装     NaN  \n",
       "\n",
       "[5 rows x 27 columns]"
      ]
     },
     "execution_count": 3,
     "metadata": {},
     "output_type": "execute_result"
    }
   ],
   "source": [
    "test = pd.read_csv('./data/test.csv')\n",
    "test.head()"
   ]
  },
  {
   "cell_type": "code",
   "execution_count": 6,
   "metadata": {},
   "outputs": [
    {
     "data": {
      "text/plain": [
       "['市区町村コード',\n",
       " '種類',\n",
       " '地域',\n",
       " '土地の形状',\n",
       " '間口',\n",
       " '延床面積（㎡）',\n",
       " '前面道路：方位',\n",
       " '前面道路：種類',\n",
       " '前面道路：幅員（ｍ）']"
      ]
     },
     "execution_count": 6,
     "metadata": {},
     "output_type": "execute_result"
    }
   ],
   "source": [
    "ID = 'ID'\n",
    "TARGET = '取引価格（総額）_log'\n",
    "rm_cols = []\n",
    "\n",
    "df = pd.concat([train, test])\n",
    "rm_cols += ['市区町村コード']\n",
    "for i, v in df.nunique().iteritems():\n",
    "    if v <= 1:\n",
    "        rm_cols.append(i)\n",
    "\n",
    "rm_cols"
   ]
  },
  {
   "cell_type": "code",
   "execution_count": 7,
   "metadata": {},
   "outputs": [
    {
     "data": {
      "text/plain": [
       "(700543, 28)"
      ]
     },
     "execution_count": 7,
     "metadata": {},
     "output_type": "execute_result"
    }
   ],
   "source": [
    "df.shape"
   ]
  },
  {
   "cell_type": "code",
   "execution_count": 8,
   "metadata": {},
   "outputs": [],
   "source": [
    "def normalize_moyori(moyori):\n",
    "    if moyori == moyori:\n",
    "        if moyori == '30分?60分':\n",
    "            moyori = 45\n",
    "        elif moyori == '1H?1H30':\n",
    "            moyori = 75\n",
    "        elif moyori == '1H30?2H':\n",
    "            moyori = 105\n",
    "        elif moyori == '2H?':\n",
    "            moyori = 120\n",
    "        moyori = int(moyori)\n",
    "    return moyori"
   ]
  },
  {
   "cell_type": "code",
   "execution_count": 9,
   "metadata": {},
   "outputs": [],
   "source": [
    "def normalize_area(area):\n",
    "    if area == area:\n",
    "        area = int(re.sub('m\\^2未満|㎡以上', '', str(area)))\n",
    "    return area"
   ]
  },
  {
   "cell_type": "code",
   "execution_count": 10,
   "metadata": {},
   "outputs": [],
   "source": [
    "def convert_wareki_to_seireki(wareki):\n",
    "    if wareki == wareki:\n",
    "        if wareki == '戦前':\n",
    "            wareki = '昭和20年'\n",
    "        value = wareki[2:-1]\n",
    "        if value == '元':\n",
    "            value = 1\n",
    "        else:\n",
    "            value = int(value)\n",
    "        if '昭和' in wareki:\n",
    "            seireki = 1925+value\n",
    "        elif '平成' in wareki:\n",
    "            seireki = 1988+value\n",
    "        elif '令和' in wareki:\n",
    "            seireki = 2018+value\n",
    "    else:\n",
    "        seireki = wareki\n",
    "    return seireki"
   ]
  },
  {
   "cell_type": "code",
   "execution_count": 11,
   "metadata": {},
   "outputs": [],
   "source": [
    "test[TARGET] = np.nan\n",
    "train.drop(rm_cols, axis=1, inplace=True)\n",
    "test.drop(columns=rm_cols, axis=1, inplace=True)\n"
   ]
  },
  {
   "cell_type": "code",
   "execution_count": 12,
   "metadata": {},
   "outputs": [
    {
     "data": {
      "text/plain": [
       "(700543, 19)"
      ]
     },
     "execution_count": 12,
     "metadata": {},
     "output_type": "execute_result"
    }
   ],
   "source": [
    "df = pd.concat([train, test])\n",
    "df.sort_values('取引時点', inplace=True)\n",
    "df.reset_index(drop=True, inplace=True)\n",
    "df.shape"
   ]
  },
  {
   "cell_type": "code",
   "execution_count": 13,
   "metadata": {},
   "outputs": [
    {
     "data": {
      "text/plain": [
       "array(['2005年第３四半期', '2005年第４四半期', '2006年第１四半期', '2006年第２四半期',\n",
       "       '2006年第３四半期', '2006年第４四半期', '2007年第１四半期', '2007年第２四半期',\n",
       "       '2007年第３四半期', '2007年第４四半期', '2008年第１四半期', '2008年第２四半期',\n",
       "       '2008年第３四半期', '2008年第４四半期', '2009年第１四半期', '2009年第２四半期',\n",
       "       '2009年第３四半期', '2009年第４四半期', '2010年第１四半期', '2010年第２四半期',\n",
       "       '2010年第３四半期', '2010年第４四半期', '2011年第１四半期', '2011年第２四半期',\n",
       "       '2011年第３四半期', '2011年第４四半期', '2012年第１四半期', '2012年第２四半期',\n",
       "       '2012年第３四半期', '2012年第４四半期', '2013年第１四半期', '2013年第２四半期',\n",
       "       '2013年第３四半期', '2013年第４四半期', '2014年第１四半期', '2014年第２四半期',\n",
       "       '2014年第３四半期', '2014年第４四半期', '2015年第１四半期', '2015年第２四半期',\n",
       "       '2015年第３四半期', '2015年第４四半期', '2016年第１四半期', '2016年第２四半期',\n",
       "       '2016年第３四半期', '2016年第４四半期', '2017年第１四半期', '2017年第２四半期',\n",
       "       '2017年第３四半期', '2017年第４四半期', '2018年第１四半期', '2018年第２四半期',\n",
       "       '2018年第３四半期', '2018年第４四半期', '2019年第１四半期', '2019年第２四半期',\n",
       "       '2019年第３四半期', '2019年第４四半期', '2020年第１四半期', '2020年第２四半期',\n",
       "       '2020年第３四半期', '2020年第４四半期', '2021年第１四半期'], dtype=object)"
      ]
     },
     "execution_count": 13,
     "metadata": {},
     "output_type": "execute_result"
    }
   ],
   "source": [
    "df['取引時点'].unique()"
   ]
  },
  {
   "cell_type": "code",
   "execution_count": 14,
   "metadata": {},
   "outputs": [
    {
     "data": {
      "text/plain": [
       "(652493, 677392)"
      ]
     },
     "execution_count": 14,
     "metadata": {},
     "output_type": "execute_result"
    }
   ],
   "source": [
    "val_min_idx = min(df[df['取引時点'].str.contains('2020年第２四半期|2020年第３四半期', regex=True)].index)\n",
    "test_min_idx = min(df[df['取引時点'].str.contains('2020年第４四半期|2021年第１四半期', regex=True)].index)\n",
    "val_min_idx, test_min_idx"
   ]
  },
  {
   "cell_type": "code",
   "execution_count": 15,
   "metadata": {},
   "outputs": [
    {
     "data": {
      "text/plain": [
       "{'2020年第２四半期', '2020年第３四半期'}"
      ]
     },
     "execution_count": 15,
     "metadata": {},
     "output_type": "execute_result"
    }
   ],
   "source": [
    "set(df.iloc[val_min_idx:test_min_idx, :]['取引時点'].values)"
   ]
  },
  {
   "cell_type": "code",
   "execution_count": 16,
   "metadata": {},
   "outputs": [],
   "source": [
    "enc_dic = {}\n",
    "for i, e in enumerate(sorted(list(set(df['取引時点'].values)))):\n",
    "    enc_dic[e] = i\n",
    "df['取引時点_enc'] = df['取引時点'].map(enc_dic)"
   ]
  },
  {
   "cell_type": "code",
   "execution_count": 18,
   "metadata": {},
   "outputs": [],
   "source": [
    "df.drop(['取引時点'], axis=1, inplace=True)\n",
    "df['建築年'] = df['建築年'].apply(lambda x: convert_wareki_to_seireki(x))\n",
    "df['面積（㎡）'] = df['面積（㎡）'].apply(lambda x: normalize_area(x))\n",
    "df['最寄駅：距離（分）'] = df['最寄駅：距離（分）'].apply(lambda x: normalize_moyori(x))"
   ]
  },
  {
   "cell_type": "code",
   "execution_count": 19,
   "metadata": {},
   "outputs": [
    {
     "data": {
      "text/html": [
       "<div>\n",
       "<style scoped>\n",
       "    .dataframe tbody tr th:only-of-type {\n",
       "        vertical-align: middle;\n",
       "    }\n",
       "\n",
       "    .dataframe tbody tr th {\n",
       "        vertical-align: top;\n",
       "    }\n",
       "\n",
       "    .dataframe thead th {\n",
       "        text-align: right;\n",
       "    }\n",
       "</style>\n",
       "<table border=\"1\" class=\"dataframe\">\n",
       "  <thead>\n",
       "    <tr style=\"text-align: right;\">\n",
       "      <th></th>\n",
       "      <th>都道府県名</th>\n",
       "      <th>市区町村名</th>\n",
       "      <th>地区名</th>\n",
       "      <th>最寄駅：名称</th>\n",
       "      <th>間取り</th>\n",
       "      <th>建物の構造</th>\n",
       "      <th>用途</th>\n",
       "      <th>今後の利用目的</th>\n",
       "      <th>都市計画</th>\n",
       "      <th>改装</th>\n",
       "      <th>取引の事情等</th>\n",
       "    </tr>\n",
       "  </thead>\n",
       "  <tbody>\n",
       "    <tr>\n",
       "      <th>0</th>\n",
       "      <td>0</td>\n",
       "      <td>0</td>\n",
       "      <td>0</td>\n",
       "      <td>0</td>\n",
       "      <td>0</td>\n",
       "      <td>0</td>\n",
       "      <td>0</td>\n",
       "      <td>-1</td>\n",
       "      <td>-1</td>\n",
       "      <td>-1</td>\n",
       "      <td>-1</td>\n",
       "    </tr>\n",
       "    <tr>\n",
       "      <th>1</th>\n",
       "      <td>1</td>\n",
       "      <td>1</td>\n",
       "      <td>1</td>\n",
       "      <td>1</td>\n",
       "      <td>1</td>\n",
       "      <td>0</td>\n",
       "      <td>0</td>\n",
       "      <td>-1</td>\n",
       "      <td>0</td>\n",
       "      <td>0</td>\n",
       "      <td>-1</td>\n",
       "    </tr>\n",
       "  </tbody>\n",
       "</table>\n",
       "</div>"
      ],
      "text/plain": [
       "   都道府県名  市区町村名  地区名  最寄駅：名称  間取り  建物の構造  用途  今後の利用目的  都市計画  改装  取引の事情等\n",
       "0      0      0    0       0    0      0   0       -1    -1  -1      -1\n",
       "1      1      1    1       1    1      0   0       -1     0   0      -1"
      ]
     },
     "execution_count": 19,
     "metadata": {},
     "output_type": "execute_result"
    }
   ],
   "source": [
    "encoder = Pipeline([\n",
    "    SelectCategorical(),\n",
    "    LabelEncoder(output_suffix=\"\"),\n",
    "])\n",
    "\n",
    "le_df = encoder.fit_transform(df)\n",
    "le_df.head(2)"
   ]
  },
  {
   "cell_type": "code",
   "execution_count": 20,
   "metadata": {},
   "outputs": [
    {
     "data": {
      "text/plain": [
       "-1    365162\n",
       " 0    311378\n",
       " 2     19023\n",
       " 1      3723\n",
       " 3      1257\n",
       "Name: 今後の利用目的, dtype: int64"
      ]
     },
     "execution_count": 20,
     "metadata": {},
     "output_type": "execute_result"
    }
   ],
   "source": [
    "le_df['今後の利用目的'].value_counts()"
   ]
  },
  {
   "cell_type": "code",
   "execution_count": 21,
   "metadata": {},
   "outputs": [
    {
     "data": {
      "text/plain": [
       "住宅     311378\n",
       "その他     19023\n",
       "事務所      3723\n",
       "店舗       1257\n",
       "Name: 今後の利用目的, dtype: int64"
      ]
     },
     "execution_count": 21,
     "metadata": {},
     "output_type": "execute_result"
    }
   ],
   "source": [
    "df['今後の利用目的'].value_counts()"
   ]
  },
  {
   "cell_type": "code",
   "execution_count": 22,
   "metadata": {},
   "outputs": [
    {
     "name": "stdout",
     "output_type": "stream",
     "text": [
      "<class 'pandas.core.frame.DataFrame'>\n",
      "RangeIndex: 700543 entries, 0 to 700542\n",
      "Data columns (total 8 columns):\n",
      " #   Column        Non-Null Count   Dtype  \n",
      "---  ------        --------------   -----  \n",
      " 0   ID            700543 non-null  int64  \n",
      " 1   最寄駅：距離（分）     677413 non-null  float64\n",
      " 2   面積（㎡）         700543 non-null  int64  \n",
      " 3   建築年           680241 non-null  float64\n",
      " 4   建ぺい率（％）       676793 non-null  float64\n",
      " 5   容積率（％）        676793 non-null  float64\n",
      " 6   取引価格（総額）_log  677392 non-null  float64\n",
      " 7   取引時点_enc      700543 non-null  int64  \n",
      "dtypes: float64(5), int64(3)\n",
      "memory usage: 42.8 MB\n"
     ]
    }
   ],
   "source": [
    "num_feature = [x for x in df.columns if df[x].dtype != 'object']\n",
    "df[num_feature].info()"
   ]
  },
  {
   "cell_type": "code",
   "execution_count": 23,
   "metadata": {},
   "outputs": [
    {
     "data": {
      "text/html": [
       "<div>\n",
       "<style scoped>\n",
       "    .dataframe tbody tr th:only-of-type {\n",
       "        vertical-align: middle;\n",
       "    }\n",
       "\n",
       "    .dataframe tbody tr th {\n",
       "        vertical-align: top;\n",
       "    }\n",
       "\n",
       "    .dataframe thead th {\n",
       "        text-align: right;\n",
       "    }\n",
       "</style>\n",
       "<table border=\"1\" class=\"dataframe\">\n",
       "  <thead>\n",
       "    <tr style=\"text-align: right;\">\n",
       "      <th></th>\n",
       "      <th>都道府県名</th>\n",
       "      <th>市区町村名</th>\n",
       "      <th>地区名</th>\n",
       "      <th>最寄駅：名称</th>\n",
       "      <th>間取り</th>\n",
       "      <th>建物の構造</th>\n",
       "      <th>用途</th>\n",
       "      <th>今後の利用目的</th>\n",
       "      <th>都市計画</th>\n",
       "      <th>改装</th>\n",
       "      <th>取引の事情等</th>\n",
       "    </tr>\n",
       "  </thead>\n",
       "  <tbody>\n",
       "    <tr>\n",
       "      <th>0</th>\n",
       "      <td>神奈川県</td>\n",
       "      <td>横浜市南区</td>\n",
       "      <td>真金町</td>\n",
       "      <td>阪東橋</td>\n",
       "      <td>１Ｋ</td>\n",
       "      <td>ＳＲＣ</td>\n",
       "      <td>住宅</td>\n",
       "      <td>NaN</td>\n",
       "      <td>NaN</td>\n",
       "      <td>NaN</td>\n",
       "      <td>NaN</td>\n",
       "    </tr>\n",
       "    <tr>\n",
       "      <th>1</th>\n",
       "      <td>東京都</td>\n",
       "      <td>中野区</td>\n",
       "      <td>中央</td>\n",
       "      <td>新中野</td>\n",
       "      <td>１ＬＤＫ</td>\n",
       "      <td>ＳＲＣ</td>\n",
       "      <td>住宅</td>\n",
       "      <td>NaN</td>\n",
       "      <td>近隣商業地域</td>\n",
       "      <td>未改装</td>\n",
       "      <td>NaN</td>\n",
       "    </tr>\n",
       "    <tr>\n",
       "      <th>2</th>\n",
       "      <td>京都府</td>\n",
       "      <td>京都市伏見区</td>\n",
       "      <td>桃山町丹下</td>\n",
       "      <td>墨染</td>\n",
       "      <td>３ＬＤＫ</td>\n",
       "      <td>ＲＣ</td>\n",
       "      <td>住宅</td>\n",
       "      <td>NaN</td>\n",
       "      <td>第１種住居地域</td>\n",
       "      <td>未改装</td>\n",
       "      <td>NaN</td>\n",
       "    </tr>\n",
       "    <tr>\n",
       "      <th>3</th>\n",
       "      <td>東京都</td>\n",
       "      <td>世田谷区</td>\n",
       "      <td>深沢</td>\n",
       "      <td>都立大学</td>\n",
       "      <td>３ＬＤＫ</td>\n",
       "      <td>ＲＣ</td>\n",
       "      <td>住宅</td>\n",
       "      <td>NaN</td>\n",
       "      <td>第１種中高層住居専用地域</td>\n",
       "      <td>未改装</td>\n",
       "      <td>NaN</td>\n",
       "    </tr>\n",
       "    <tr>\n",
       "      <th>4</th>\n",
       "      <td>埼玉県</td>\n",
       "      <td>さいたま市緑区</td>\n",
       "      <td>原山</td>\n",
       "      <td>浦和</td>\n",
       "      <td>２ＬＤＫ</td>\n",
       "      <td>NaN</td>\n",
       "      <td>住宅</td>\n",
       "      <td>NaN</td>\n",
       "      <td>NaN</td>\n",
       "      <td>改装済</td>\n",
       "      <td>NaN</td>\n",
       "    </tr>\n",
       "    <tr>\n",
       "      <th>...</th>\n",
       "      <td>...</td>\n",
       "      <td>...</td>\n",
       "      <td>...</td>\n",
       "      <td>...</td>\n",
       "      <td>...</td>\n",
       "      <td>...</td>\n",
       "      <td>...</td>\n",
       "      <td>...</td>\n",
       "      <td>...</td>\n",
       "      <td>...</td>\n",
       "      <td>...</td>\n",
       "    </tr>\n",
       "    <tr>\n",
       "      <th>700538</th>\n",
       "      <td>愛知県</td>\n",
       "      <td>名古屋市千種区</td>\n",
       "      <td>桜が丘</td>\n",
       "      <td>星ケ丘(愛知)</td>\n",
       "      <td>３ＬＤＫ</td>\n",
       "      <td>ＲＣ</td>\n",
       "      <td>住宅</td>\n",
       "      <td>住宅</td>\n",
       "      <td>第１種住居地域</td>\n",
       "      <td>未改装</td>\n",
       "      <td>NaN</td>\n",
       "    </tr>\n",
       "    <tr>\n",
       "      <th>700539</th>\n",
       "      <td>東京都</td>\n",
       "      <td>新宿区</td>\n",
       "      <td>中落合</td>\n",
       "      <td>落合南長崎</td>\n",
       "      <td>１Ｋ</td>\n",
       "      <td>ＲＣ</td>\n",
       "      <td>NaN</td>\n",
       "      <td>住宅</td>\n",
       "      <td>近隣商業地域</td>\n",
       "      <td>未改装</td>\n",
       "      <td>NaN</td>\n",
       "    </tr>\n",
       "    <tr>\n",
       "      <th>700540</th>\n",
       "      <td>東京都</td>\n",
       "      <td>新宿区</td>\n",
       "      <td>中落合</td>\n",
       "      <td>落合南長崎</td>\n",
       "      <td>１Ｋ</td>\n",
       "      <td>ＲＣ</td>\n",
       "      <td>住宅</td>\n",
       "      <td>住宅</td>\n",
       "      <td>近隣商業地域</td>\n",
       "      <td>改装済</td>\n",
       "      <td>NaN</td>\n",
       "    </tr>\n",
       "    <tr>\n",
       "      <th>700541</th>\n",
       "      <td>愛知県</td>\n",
       "      <td>名古屋市千種区</td>\n",
       "      <td>末盛通</td>\n",
       "      <td>覚王山</td>\n",
       "      <td>１ＬＤＫ</td>\n",
       "      <td>ＲＣ</td>\n",
       "      <td>住宅</td>\n",
       "      <td>住宅</td>\n",
       "      <td>商業地域</td>\n",
       "      <td>NaN</td>\n",
       "      <td>NaN</td>\n",
       "    </tr>\n",
       "    <tr>\n",
       "      <th>700542</th>\n",
       "      <td>東京都</td>\n",
       "      <td>品川区</td>\n",
       "      <td>西五反田</td>\n",
       "      <td>不動前</td>\n",
       "      <td>１Ｋ</td>\n",
       "      <td>ＲＣ</td>\n",
       "      <td>住宅</td>\n",
       "      <td>住宅</td>\n",
       "      <td>準工業地域</td>\n",
       "      <td>NaN</td>\n",
       "      <td>NaN</td>\n",
       "    </tr>\n",
       "  </tbody>\n",
       "</table>\n",
       "<p>700543 rows × 11 columns</p>\n",
       "</div>"
      ],
      "text/plain": [
       "       都道府県名    市区町村名    地区名   最寄駅：名称   間取り 建物の構造   用途 今後の利用目的          都市計画  \\\n",
       "0       神奈川県    横浜市南区    真金町      阪東橋    １Ｋ   ＳＲＣ   住宅     NaN           NaN   \n",
       "1        東京都      中野区     中央      新中野  １ＬＤＫ   ＳＲＣ   住宅     NaN        近隣商業地域   \n",
       "2        京都府   京都市伏見区  桃山町丹下       墨染  ３ＬＤＫ    ＲＣ   住宅     NaN       第１種住居地域   \n",
       "3        東京都     世田谷区     深沢     都立大学  ３ＬＤＫ    ＲＣ   住宅     NaN  第１種中高層住居専用地域   \n",
       "4        埼玉県  さいたま市緑区     原山       浦和  ２ＬＤＫ   NaN   住宅     NaN           NaN   \n",
       "...      ...      ...    ...      ...   ...   ...  ...     ...           ...   \n",
       "700538   愛知県  名古屋市千種区    桜が丘  星ケ丘(愛知)  ３ＬＤＫ    ＲＣ   住宅      住宅       第１種住居地域   \n",
       "700539   東京都      新宿区    中落合    落合南長崎    １Ｋ    ＲＣ  NaN      住宅        近隣商業地域   \n",
       "700540   東京都      新宿区    中落合    落合南長崎    １Ｋ    ＲＣ   住宅      住宅        近隣商業地域   \n",
       "700541   愛知県  名古屋市千種区    末盛通      覚王山  １ＬＤＫ    ＲＣ   住宅      住宅          商業地域   \n",
       "700542   東京都      品川区   西五反田      不動前    １Ｋ    ＲＣ   住宅      住宅         準工業地域   \n",
       "\n",
       "         改装 取引の事情等  \n",
       "0       NaN    NaN  \n",
       "1       未改装    NaN  \n",
       "2       未改装    NaN  \n",
       "3       未改装    NaN  \n",
       "4       改装済    NaN  \n",
       "...     ...    ...  \n",
       "700538  未改装    NaN  \n",
       "700539  未改装    NaN  \n",
       "700540  改装済    NaN  \n",
       "700541  NaN    NaN  \n",
       "700542  NaN    NaN  \n",
       "\n",
       "[700543 rows x 11 columns]"
      ]
     },
     "execution_count": 23,
     "metadata": {},
     "output_type": "execute_result"
    }
   ],
   "source": [
    "cat_feature = [x for x in df.columns if df[x].dtype == 'object']\n",
    "df[cat_feature]"
   ]
  },
  {
   "cell_type": "code",
   "execution_count": 26,
   "metadata": {},
   "outputs": [],
   "source": [
    "feat_df = pd.concat([df[num_feature], le_df], axis=1)"
   ]
  },
  {
   "cell_type": "code",
   "execution_count": 27,
   "metadata": {},
   "outputs": [
    {
     "data": {
      "text/html": [
       "<div>\n",
       "<style scoped>\n",
       "    .dataframe tbody tr th:only-of-type {\n",
       "        vertical-align: middle;\n",
       "    }\n",
       "\n",
       "    .dataframe tbody tr th {\n",
       "        vertical-align: top;\n",
       "    }\n",
       "\n",
       "    .dataframe thead th {\n",
       "        text-align: right;\n",
       "    }\n",
       "</style>\n",
       "<table border=\"1\" class=\"dataframe\">\n",
       "  <thead>\n",
       "    <tr style=\"text-align: right;\">\n",
       "      <th></th>\n",
       "      <th>ID</th>\n",
       "      <th>最寄駅：距離（分）</th>\n",
       "      <th>面積（㎡）</th>\n",
       "      <th>建築年</th>\n",
       "      <th>建ぺい率（％）</th>\n",
       "      <th>容積率（％）</th>\n",
       "      <th>取引価格（総額）_log</th>\n",
       "      <th>取引時点_enc</th>\n",
       "      <th>都道府県名</th>\n",
       "      <th>市区町村名</th>\n",
       "      <th>地区名</th>\n",
       "      <th>最寄駅：名称</th>\n",
       "      <th>間取り</th>\n",
       "      <th>建物の構造</th>\n",
       "      <th>用途</th>\n",
       "      <th>今後の利用目的</th>\n",
       "      <th>都市計画</th>\n",
       "      <th>改装</th>\n",
       "      <th>取引の事情等</th>\n",
       "    </tr>\n",
       "  </thead>\n",
       "  <tbody>\n",
       "    <tr>\n",
       "      <th>0</th>\n",
       "      <td>14198339</td>\n",
       "      <td>NaN</td>\n",
       "      <td>15</td>\n",
       "      <td>1992.0</td>\n",
       "      <td>NaN</td>\n",
       "      <td>NaN</td>\n",
       "      <td>6.698970</td>\n",
       "      <td>0</td>\n",
       "      <td>0</td>\n",
       "      <td>0</td>\n",
       "      <td>0</td>\n",
       "      <td>0</td>\n",
       "      <td>0</td>\n",
       "      <td>0</td>\n",
       "      <td>0</td>\n",
       "      <td>-1</td>\n",
       "      <td>-1</td>\n",
       "      <td>-1</td>\n",
       "      <td>-1</td>\n",
       "    </tr>\n",
       "    <tr>\n",
       "      <th>1</th>\n",
       "      <td>13318874</td>\n",
       "      <td>NaN</td>\n",
       "      <td>40</td>\n",
       "      <td>1999.0</td>\n",
       "      <td>80.0</td>\n",
       "      <td>400.0</td>\n",
       "      <td>7.380211</td>\n",
       "      <td>0</td>\n",
       "      <td>1</td>\n",
       "      <td>1</td>\n",
       "      <td>1</td>\n",
       "      <td>1</td>\n",
       "      <td>1</td>\n",
       "      <td>0</td>\n",
       "      <td>0</td>\n",
       "      <td>-1</td>\n",
       "      <td>0</td>\n",
       "      <td>0</td>\n",
       "      <td>-1</td>\n",
       "    </tr>\n",
       "    <tr>\n",
       "      <th>2</th>\n",
       "      <td>26081806</td>\n",
       "      <td>4.0</td>\n",
       "      <td>60</td>\n",
       "      <td>1994.0</td>\n",
       "      <td>60.0</td>\n",
       "      <td>200.0</td>\n",
       "      <td>7.176091</td>\n",
       "      <td>0</td>\n",
       "      <td>2</td>\n",
       "      <td>2</td>\n",
       "      <td>2</td>\n",
       "      <td>2</td>\n",
       "      <td>2</td>\n",
       "      <td>1</td>\n",
       "      <td>0</td>\n",
       "      <td>-1</td>\n",
       "      <td>1</td>\n",
       "      <td>0</td>\n",
       "      <td>-1</td>\n",
       "    </tr>\n",
       "    <tr>\n",
       "      <th>3</th>\n",
       "      <td>13302280</td>\n",
       "      <td>NaN</td>\n",
       "      <td>85</td>\n",
       "      <td>2004.0</td>\n",
       "      <td>60.0</td>\n",
       "      <td>200.0</td>\n",
       "      <td>7.832509</td>\n",
       "      <td>0</td>\n",
       "      <td>1</td>\n",
       "      <td>3</td>\n",
       "      <td>3</td>\n",
       "      <td>3</td>\n",
       "      <td>2</td>\n",
       "      <td>1</td>\n",
       "      <td>0</td>\n",
       "      <td>-1</td>\n",
       "      <td>2</td>\n",
       "      <td>0</td>\n",
       "      <td>-1</td>\n",
       "    </tr>\n",
       "    <tr>\n",
       "      <th>4</th>\n",
       "      <td>11089836</td>\n",
       "      <td>NaN</td>\n",
       "      <td>50</td>\n",
       "      <td>1990.0</td>\n",
       "      <td>NaN</td>\n",
       "      <td>NaN</td>\n",
       "      <td>6.977724</td>\n",
       "      <td>0</td>\n",
       "      <td>3</td>\n",
       "      <td>4</td>\n",
       "      <td>4</td>\n",
       "      <td>4</td>\n",
       "      <td>3</td>\n",
       "      <td>-1</td>\n",
       "      <td>0</td>\n",
       "      <td>-1</td>\n",
       "      <td>-1</td>\n",
       "      <td>1</td>\n",
       "      <td>-1</td>\n",
       "    </tr>\n",
       "  </tbody>\n",
       "</table>\n",
       "</div>"
      ],
      "text/plain": [
       "         ID  最寄駅：距離（分）  面積（㎡）     建築年  建ぺい率（％）  容積率（％）  取引価格（総額）_log  \\\n",
       "0  14198339        NaN     15  1992.0      NaN     NaN      6.698970   \n",
       "1  13318874        NaN     40  1999.0     80.0   400.0      7.380211   \n",
       "2  26081806        4.0     60  1994.0     60.0   200.0      7.176091   \n",
       "3  13302280        NaN     85  2004.0     60.0   200.0      7.832509   \n",
       "4  11089836        NaN     50  1990.0      NaN     NaN      6.977724   \n",
       "\n",
       "   取引時点_enc  都道府県名  市区町村名  地区名  最寄駅：名称  間取り  建物の構造  用途  今後の利用目的  都市計画  改装  \\\n",
       "0         0      0      0    0       0    0      0   0       -1    -1  -1   \n",
       "1         0      1      1    1       1    1      0   0       -1     0   0   \n",
       "2         0      2      2    2       2    2      1   0       -1     1   0   \n",
       "3         0      1      3    3       3    2      1   0       -1     2   0   \n",
       "4         0      3      4    4       4    3     -1   0       -1    -1   1   \n",
       "\n",
       "   取引の事情等  \n",
       "0      -1  \n",
       "1      -1  \n",
       "2      -1  \n",
       "3      -1  \n",
       "4      -1  "
      ]
     },
     "execution_count": 27,
     "metadata": {},
     "output_type": "execute_result"
    }
   ],
   "source": [
    "feat_df.head()"
   ]
  },
  {
   "cell_type": "code",
   "execution_count": 28,
   "metadata": {},
   "outputs": [
    {
     "name": "stdout",
     "output_type": "stream",
     "text": [
      "(652493, 19) (24899, 19) (23151, 19)\n"
     ]
    }
   ],
   "source": [
    "train_df = feat_df.iloc[:val_min_idx, :]\n",
    "val_df = feat_df.iloc[val_min_idx:test_min_idx, :]\n",
    "test_df = feat_df.iloc[test_min_idx:, :]\n",
    "print(train_df.shape, val_df.shape, test_df.shape)"
   ]
  },
  {
   "cell_type": "code",
   "execution_count": 29,
   "metadata": {},
   "outputs": [],
   "source": [
    "feat_cols = [col for col in train_df.columns if col not in rm_cols+[ID, TARGET]]"
   ]
  },
  {
   "cell_type": "code",
   "execution_count": 30,
   "metadata": {},
   "outputs": [],
   "source": [
    "train_x = train_df[feat_cols]\n",
    "train_y = train_df[TARGET]\n",
    "val_x = val_df[feat_cols]\n",
    "val_y = val_df[TARGET]\n",
    "test_x = test_df[feat_cols]\n",
    "test_y = test_df[TARGET]"
   ]
  },
  {
   "cell_type": "code",
   "execution_count": 31,
   "metadata": {},
   "outputs": [],
   "source": [
    "from sklearn.preprocessing import StandardScaler\n",
    "train_x= train_x.fillna(train_x.mean())"
   ]
  },
  {
   "cell_type": "code",
   "execution_count": 32,
   "metadata": {},
   "outputs": [],
   "source": [
    "val_x = val_x.fillna(train_x.mean())"
   ]
  },
  {
   "cell_type": "code",
   "execution_count": 33,
   "metadata": {},
   "outputs": [],
   "source": [
    "test_x = test_x.fillna(train_x.mean())"
   ]
  },
  {
   "cell_type": "code",
   "execution_count": 36,
   "metadata": {},
   "outputs": [],
   "source": [
    "# sc = StandardScaler()\n",
    "# sc.fit(train_x)\n",
    "\n",
    "# X_train = pd.DataFrame(sc.transform(train_x), columns=train_x.columns)\n",
    "# X_val = pd.DataFrame(sc.transform(val_x), columns=val_x.columns)\n",
    "# X_test = pd.DataFrame(sc.transform(test_x), columns=test_x.columns)"
   ]
  },
  {
   "cell_type": "code",
   "execution_count": 38,
   "metadata": {},
   "outputs": [
    {
     "data": {
      "text/plain": [
       "<AxesSubplot:>"
      ]
     },
     "execution_count": 38,
     "metadata": {},
     "output_type": "execute_result"
    },
    {
     "data": {
      "image/png": "[encoded data removed]",
      "text/plain": [
       "<Figure size 1080x648 with 2 Axes>"
      ]
     },
     "metadata": {},
     "output_type": "display_data"
    }
   ],
   "source": [
    "fig = plt.figure(figsize=(15,9))\n",
    "sns.heatmap(train_x.corr(), annot=True)"
   ]
  },
  {
   "cell_type": "code",
   "execution_count": 47,
   "metadata": {},
   "outputs": [],
   "source": [
    "lasso = ElasticNet(alpha=0.01,\n",
    "                   l1_ratio=1.0,\n",
    "                   random_state=0\n",
    "                        )\n",
    "lasso.fit(train_x, train_y)\n",
    "y_val = lasso.predict(val_x)"
   ]
  },
  {
   "cell_type": "code",
   "execution_count": 48,
   "metadata": {},
   "outputs": [
    {
     "data": {
      "text/plain": [
       "0.1649832116212239"
      ]
     },
     "execution_count": 48,
     "metadata": {},
     "output_type": "execute_result"
    }
   ],
   "source": [
    "from sklearn.metrics import mean_absolute_error as mae\n",
    "mae(val_y, y_val)"
   ]
  },
  {
   "cell_type": "code",
   "execution_count": 49,
   "metadata": {},
   "outputs": [
    {
     "data": {
      "text/plain": [
       "array([-3.72584644e-03,  6.13568759e-03,  1.47115536e-02, -2.46158372e-03,\n",
       "        2.84489780e-04,  1.08809888e-03, -8.25346349e-03, -8.06462047e-05,\n",
       "       -1.03383102e-05, -5.63674277e-05, -0.00000000e+00, -0.00000000e+00,\n",
       "       -0.00000000e+00,  0.00000000e+00, -0.00000000e+00,  2.42728311e-02,\n",
       "       -0.00000000e+00])"
      ]
     },
     "execution_count": 49,
     "metadata": {},
     "output_type": "execute_result"
    }
   ],
   "source": [
    "lasso.coef_"
   ]
  },
  {
   "cell_type": "code",
   "execution_count": 51,
   "metadata": {},
   "outputs": [
    {
     "data": {
      "text/html": [
       "<div>\n",
       "<style scoped>\n",
       "    .dataframe tbody tr th:only-of-type {\n",
       "        vertical-align: middle;\n",
       "    }\n",
       "\n",
       "    .dataframe tbody tr th {\n",
       "        vertical-align: top;\n",
       "    }\n",
       "\n",
       "    .dataframe thead th {\n",
       "        text-align: right;\n",
       "    }\n",
       "</style>\n",
       "<table border=\"1\" class=\"dataframe\">\n",
       "  <thead>\n",
       "    <tr style=\"text-align: right;\">\n",
       "      <th></th>\n",
       "      <th>columns</th>\n",
       "      <th>value</th>\n",
       "    </tr>\n",
       "  </thead>\n",
       "  <tbody>\n",
       "    <tr>\n",
       "      <th>0</th>\n",
       "      <td>最寄駅：距離（分）</td>\n",
       "      <td>-0.003726</td>\n",
       "    </tr>\n",
       "    <tr>\n",
       "      <th>1</th>\n",
       "      <td>面積（㎡）</td>\n",
       "      <td>0.006136</td>\n",
       "    </tr>\n",
       "    <tr>\n",
       "      <th>2</th>\n",
       "      <td>建築年</td>\n",
       "      <td>0.014712</td>\n",
       "    </tr>\n",
       "    <tr>\n",
       "      <th>3</th>\n",
       "      <td>建ぺい率（％）</td>\n",
       "      <td>-0.002462</td>\n",
       "    </tr>\n",
       "    <tr>\n",
       "      <th>4</th>\n",
       "      <td>容積率（％）</td>\n",
       "      <td>0.000284</td>\n",
       "    </tr>\n",
       "    <tr>\n",
       "      <th>5</th>\n",
       "      <td>取引時点_enc</td>\n",
       "      <td>0.001088</td>\n",
       "    </tr>\n",
       "    <tr>\n",
       "      <th>6</th>\n",
       "      <td>都道府県名</td>\n",
       "      <td>-0.008253</td>\n",
       "    </tr>\n",
       "    <tr>\n",
       "      <th>7</th>\n",
       "      <td>市区町村名</td>\n",
       "      <td>-0.000081</td>\n",
       "    </tr>\n",
       "    <tr>\n",
       "      <th>8</th>\n",
       "      <td>地区名</td>\n",
       "      <td>-0.000010</td>\n",
       "    </tr>\n",
       "    <tr>\n",
       "      <th>9</th>\n",
       "      <td>最寄駅：名称</td>\n",
       "      <td>-0.000056</td>\n",
       "    </tr>\n",
       "    <tr>\n",
       "      <th>10</th>\n",
       "      <td>間取り</td>\n",
       "      <td>-0.000000</td>\n",
       "    </tr>\n",
       "    <tr>\n",
       "      <th>11</th>\n",
       "      <td>建物の構造</td>\n",
       "      <td>-0.000000</td>\n",
       "    </tr>\n",
       "    <tr>\n",
       "      <th>12</th>\n",
       "      <td>用途</td>\n",
       "      <td>-0.000000</td>\n",
       "    </tr>\n",
       "    <tr>\n",
       "      <th>13</th>\n",
       "      <td>今後の利用目的</td>\n",
       "      <td>0.000000</td>\n",
       "    </tr>\n",
       "    <tr>\n",
       "      <th>14</th>\n",
       "      <td>都市計画</td>\n",
       "      <td>-0.000000</td>\n",
       "    </tr>\n",
       "    <tr>\n",
       "      <th>15</th>\n",
       "      <td>改装</td>\n",
       "      <td>0.024273</td>\n",
       "    </tr>\n",
       "    <tr>\n",
       "      <th>16</th>\n",
       "      <td>取引の事情等</td>\n",
       "      <td>-0.000000</td>\n",
       "    </tr>\n",
       "  </tbody>\n",
       "</table>\n",
       "</div>"
      ],
      "text/plain": [
       "      columns     value\n",
       "0   最寄駅：距離（分） -0.003726\n",
       "1       面積（㎡）  0.006136\n",
       "2         建築年  0.014712\n",
       "3     建ぺい率（％） -0.002462\n",
       "4      容積率（％）  0.000284\n",
       "5    取引時点_enc  0.001088\n",
       "6       都道府県名 -0.008253\n",
       "7       市区町村名 -0.000081\n",
       "8         地区名 -0.000010\n",
       "9      最寄駅：名称 -0.000056\n",
       "10        間取り -0.000000\n",
       "11      建物の構造 -0.000000\n",
       "12         用途 -0.000000\n",
       "13    今後の利用目的  0.000000\n",
       "14       都市計画 -0.000000\n",
       "15         改装  0.024273\n",
       "16     取引の事情等 -0.000000"
      ]
     },
     "execution_count": 51,
     "metadata": {},
     "output_type": "execute_result"
    }
   ],
   "source": [
    "coef_df = pd.DataFrame({'columns': train_x.columns, 'value': lasso.coef_})\n",
    "coef_df"
   ]
  },
  {
   "cell_type": "code",
   "execution_count": 69,
   "metadata": {},
   "outputs": [
    {
     "data": {
      "image/png": "[encoded data removed]",
      "text/plain": [
       "<Figure size 432x288 with 1 Axes>"
      ]
     },
     "metadata": {},
     "output_type": "display_data"
    }
   ],
   "source": [
    "plt.scatter(y_val, val_y - y_val)\n",
    "plt.xlabel('val_y')\n",
    "plt.ylabel('error')\n",
    "plt.show()\n",
    "\n",
    "# ransacで学習したときの残差プロット\n",
    "# 外れ値に対する予測が精度が下がっている"
   ]
  },
  {
   "cell_type": "code",
   "execution_count": 51,
   "metadata": {},
   "outputs": [],
   "source": [
    "error = val_y - y_val"
   ]
  },
  {
   "cell_type": "code",
   "execution_count": 52,
   "metadata": {},
   "outputs": [
    {
     "data": {
      "text/plain": [
       "<matplotlib.collections.PathCollection at 0x7f91fadb59d0>"
      ]
     },
     "execution_count": 52,
     "metadata": {},
     "output_type": "execute_result"
    },
    {
     "data": {
      "image/png": "[encoded data removed]",
      "text/plain": [
       "<Figure size 432x288 with 1 Axes>"
      ]
     },
     "metadata": {},
     "output_type": "display_data"
    }
   ],
   "source": [
    "plt.scatter(x=y_val, y=error)\n",
    "\n",
    "# 重回帰の残渣プロット"
   ]
  },
  {
   "cell_type": "markdown",
   "metadata": {},
   "source": [
    "残差はおおむね等分散性が担保されている\n",
    "\n",
    "外れ値の予測の乖離が大きくなっている\n",
    "\n",
    "実データより取引額を大きく見積もることが多い\n",
    "\n",
    "valid(重回帰）:0.1644　-> valid（ransac):0.1627 "
   ]
  },
  {
   "cell_type": "markdown",
   "metadata": {},
   "source": [
    "RANSACで正常値のみ学習させてみる"
   ]
  },
  {
   "cell_type": "code",
   "execution_count": 71,
   "metadata": {},
   "outputs": [],
   "source": [
    "test_pred = ransac.predict(test_x)"
   ]
  },
  {
   "cell_type": "code",
   "execution_count": 116,
   "metadata": {},
   "outputs": [
    {
     "name": "stderr",
     "output_type": "stream",
     "text": [
      "/Users/otomoryosuke/opt/anaconda3/envs/Python37/lib/python3.7/site-packages/ipykernel_launcher.py:1: SettingWithCopyWarning: \n",
      "A value is trying to be set on a copy of a slice from a DataFrame.\n",
      "Try using .loc[row_indexer,col_indexer] = value instead\n",
      "\n",
      "See the caveats in the documentation: https://pandas.pydata.org/pandas-docs/stable/user_guide/indexing.html#returning-a-view-versus-a-copy\n",
      "  \"\"\"Entry point for launching an IPython kernel.\n"
     ]
    }
   ],
   "source": [
    "test_df[TARGET] = test_pred"
   ]
  },
  {
   "cell_type": "code",
   "execution_count": 72,
   "metadata": {},
   "outputs": [
    {
     "data": {
      "text/plain": [
       "<matplotlib.legend.Legend at 0x7ff227557b90>"
      ]
     },
     "execution_count": 72,
     "metadata": {},
     "output_type": "execute_result"
    },
    {
     "data": {
      "image/png": "[encoded data removed]",
      "text/plain": [
       "<Figure size 432x288 with 1 Axes>"
      ]
     },
     "metadata": {},
     "output_type": "display_data"
    }
   ],
   "source": [
    "sns.histplot(val_y, color='green', alpha=0.3, label='valid')\n",
    "sns.histplot(test_pred, color='orange', alpha=0.3, label='test')\n",
    "plt.legend()"
   ]
  }
 ],
 "metadata": {
  "kernelspec": {
   "display_name": "Python 3",
   "language": "python",
   "name": "python3"
  },
  "language_info": {
   "codemirror_mode": {
    "name": "ipython",
    "version": 3
   },
   "file_extension": ".py",
   "mimetype": "text/x-python",
   "name": "python",
   "nbconvert_exporter": "python",
   "pygments_lexer": "ipython3",
   "version": "3.7.9"
  }
 },
 "nbformat": 4,
 "nbformat_minor": 4
}
